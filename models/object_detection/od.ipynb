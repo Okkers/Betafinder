{
 "cells": [
  {
   "cell_type": "code",
   "execution_count": 88,
   "metadata": {},
   "outputs": [],
   "source": [
    "from ultralytics import YOLO\n",
    "import cv2\n",
    "import numpy as np"
   ]
  },
  {
   "cell_type": "code",
   "execution_count": 106,
   "metadata": {},
   "outputs": [],
   "source": [
    "model_path = \"D:/Betafinder/Betafinder/models/object_detection/yolo_weights/bounding_and_color.pt\"\n",
    "img_path = \"D:/Betafinder/data/Object_detection_holds/IMG20240218163706.jpg\""
   ]
  },
  {
   "cell_type": "code",
   "execution_count": 107,
   "metadata": {},
   "outputs": [
    {
     "name": "stdout",
     "output_type": "stream",
     "text": [
      "\n",
      "image 1/1 D:\\Betafinder\\data\\Object_detection_holds\\IMG20240218163706.jpg: 640x480 7 Blacks, 1 Gray, 6 Pinks, 3 UNKNOWNs, 88.8ms\n",
      "Speed: 3.0ms preprocess, 88.8ms inference, 1.0ms postprocess per image at shape (1, 3, 640, 480)\n",
      "Results saved to \u001b[1mruns\\detect\\predict7\u001b[0m\n",
      "1 label saved to runs\\detect\\predict7\\labels\n"
     ]
    },
    {
     "ename": "",
     "evalue": "",
     "output_type": "error",
     "traceback": [
      "\u001b[1;31mThe Kernel crashed while executing code in the current cell or a previous cell. \n",
      "\u001b[1;31mPlease review the code in the cell(s) to identify a possible cause of the failure. \n",
      "\u001b[1;31mClick <a href='https://aka.ms/vscodeJupyterKernelCrash'>here</a> for more info. \n",
      "\u001b[1;31mView Jupyter <a href='command:jupyter.viewOutput'>log</a> for further details."
     ]
    }
   ],
   "source": [
    "# initialize model and predict\n",
    "model = YOLO(model_path)\n",
    "results = model(img_path, save = True, save_txt = True)"
   ]
  },
  {
   "cell_type": "code",
   "execution_count": 91,
   "metadata": {},
   "outputs": [
    {
     "name": "stdout",
     "output_type": "stream",
     "text": [
      "{0: 'Black', 1: 'Blue', 2: 'Gray', 3: 'Green', 4: 'Orange', 5: 'Pink', 6: 'Purple', 7: 'Red', 8: 'UNKNOWN', 9: 'White', 10: 'Yellow'}\n"
     ]
    }
   ],
   "source": [
    "### Color classes identified:\n",
    "print(results[0].names)"
   ]
  },
  {
   "cell_type": "code",
   "execution_count": 92,
   "metadata": {},
   "outputs": [],
   "source": [
    "### Converts the bounding box metric xywh from Yolo output to x1, x2, y1, y2 for chaining\n",
    "### with cv2. Keeps the predicted color and color name of each hold as well.\n",
    "def yolobbox2bbox(out):\n",
    "    all_boxes = []\n",
    "    plc = out.boxes.xywh\n",
    "    clr = out.boxes.cls\n",
    "    clr_names = out.names\n",
    "\n",
    "    def center_border_to_xxyy(x,y,w,h):\n",
    "        x1, y1 = x-w//2, y-h//2\n",
    "        x2, y2 = x+w//2, y+h//2\n",
    "        return x1, y1, x2, y2\n",
    "\n",
    "    for i in range(len(plc)):\n",
    "        to_int = [int(x) for x in plc[i]]\n",
    "        color = int(clr[i])\n",
    "        clr_name = clr_names[color]\n",
    "        all_boxes.append(((color, clr_name), center_border_to_xxyy(*to_int)))\n",
    "\n",
    "    return all_boxes"
   ]
  },
  {
   "cell_type": "code",
   "execution_count": 96,
   "metadata": {},
   "outputs": [
    {
     "name": "stdout",
     "output_type": "stream",
     "text": [
      "5 Pink\n"
     ]
    }
   ],
   "source": [
    "# Sanity-check\n",
    "all_boxes = yolobbox2bbox(results[0])\n",
    "pic = cv2.imread(img_path)\n",
    "\n",
    "# Unpack all_boxes as two tuples:\n",
    "(c, c_name), (x,y,w,h) = all_boxes[np.random.randint(0, len(all_boxes)-1)]\n",
    "\n",
    "crop_img = pic[y:h, x:w]\n",
    "print(c, c_name)\n",
    "cv2.imshow(\"test\", crop_img)\n",
    "cv2.waitKey(0)\n",
    "cv2.destroyAllWindows()"
   ]
  }
 ],
 "metadata": {
  "kernelspec": {
   "display_name": "venv",
   "language": "python",
   "name": "python3"
  },
  "language_info": {
   "codemirror_mode": {
    "name": "ipython",
    "version": 3
   },
   "file_extension": ".py",
   "mimetype": "text/x-python",
   "name": "python",
   "nbconvert_exporter": "python",
   "pygments_lexer": "ipython3",
   "version": "3.9.1"
  }
 },
 "nbformat": 4,
 "nbformat_minor": 2
}
