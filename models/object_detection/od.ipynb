{
 "cells": [
  {
   "cell_type": "code",
   "execution_count": 62,
   "metadata": {},
   "outputs": [],
   "source": [
    "from ultralytics import YOLO\n",
    "import cv2\n",
    "import numpy as np\n",
    "import pandas as pd\n",
    "import glob\n",
    "import pickle"
   ]
  },
  {
   "cell_type": "code",
   "execution_count": 57,
   "metadata": {},
   "outputs": [],
   "source": [
    "model_path = \"D:/Betafinder/Betafinder/models/object_detection/yolo_weights/bounding_and_color.pt\"\n",
    "img_paths = \"D:\\Betafinder\\data\\Object_detection_holds\""
   ]
  },
  {
   "cell_type": "code",
   "execution_count": 63,
   "metadata": {},
   "outputs": [],
   "source": [
    "### Converts the bounding box metric xywh from Yolo output to x1, x2, y1, y2 for chaining\n",
    "### with cv2. Keeps the predicted color and color name of each hold as well.\n",
    "def yolobbox2bbox(out, with_color = True):\n",
    "    all_boxes = []\n",
    "    plc = out.boxes.xywh\n",
    "    clr = out.boxes.cls\n",
    "    clr_names = out.names\n",
    "\n",
    "    def center_border_to_xxyy(x,y,w,h):\n",
    "        x1, y1 = x-w//2, y-h//2\n",
    "        x2, y2 = x+w//2, y+h//2\n",
    "        return x1, y1, x2, y2\n",
    "\n",
    "    for i in range(len(plc)):\n",
    "        to_int = [int(x) for x in plc[i]]\n",
    "        color = int(clr[i])\n",
    "        clr_name = clr_names[color]\n",
    "        if with_color:\n",
    "            all_boxes.append(((color, clr_name), center_border_to_xxyy(*to_int)))\n",
    "        else:\n",
    "            all_boxes.append(center_border_to_xxyy(*to_int))\n",
    "\n",
    "    return all_boxes"
   ]
  },
  {
   "cell_type": "code",
   "execution_count": 66,
   "metadata": {},
   "outputs": [
    {
     "name": "stdout",
     "output_type": "stream",
     "text": [
      "\n",
      "image 1/1 D:\\Betafinder\\data\\Object_detection_holds\\IMG20240218163532.jpg: 640x480 1 Blue, 4 Greens, 1 Pink, 2 Purples, 2 Reds, 3 UNKNOWNs, 1 White, 13 Yellows, 82.5ms\n",
      "Speed: 4.0ms preprocess, 82.5ms inference, 1.1ms postprocess per image at shape (1, 3, 640, 480)\n",
      "Results saved to \u001b[1mruns\\detect\\predict4\u001b[0m\n",
      "1 label saved to runs\\detect\\predict4\\labels\n",
      "\n",
      "image 1/1 D:\\Betafinder\\data\\Object_detection_holds\\IMG20240218163706.jpg: 640x480 7 Blacks, 1 Gray, 6 Pinks, 3 UNKNOWNs, 79.0ms\n",
      "Speed: 2.6ms preprocess, 79.0ms inference, 4.3ms postprocess per image at shape (1, 3, 640, 480)\n",
      "Results saved to \u001b[1mruns\\detect\\predict4\u001b[0m\n",
      "2 labels saved to runs\\detect\\predict4\\labels\n",
      "\n",
      "image 1/1 D:\\Betafinder\\data\\Object_detection_holds\\IMG20240218163716.jpg: 640x480 5 Blacks, 5 Blues, 2 Grays, 2 Pinks, 6 Purples, 2 UNKNOWNs, 2 Whites, 96.7ms\n",
      "Speed: 4.2ms preprocess, 96.7ms inference, 5.0ms postprocess per image at shape (1, 3, 640, 480)\n",
      "Results saved to \u001b[1mruns\\detect\\predict4\u001b[0m\n",
      "3 labels saved to runs\\detect\\predict4\\labels\n"
     ]
    }
   ],
   "source": [
    "# initialize model and predict\n",
    "model = YOLO(model_path)\n",
    "\n",
    "training_set = []\n",
    "\n",
    "for indx, img in enumerate(glob.glob(img_paths + \"/*\")):\n",
    "    if indx % 2 == 0: # Only have labels for imgs 1,3 and 5 \n",
    "        out = model(img, save = True, save_txt = True)[0]\n",
    "        out = yolobbox2bbox(out)\n",
    "        training_set.append(out)"
   ]
  },
  {
   "cell_type": "code",
   "execution_count": 67,
   "metadata": {},
   "outputs": [],
   "source": [
    "def select_boulder(holds, color):\n",
    "    boulder = [x for x in holds if x[0][1] == color or x[0][1] == \"Gray\" or x[0][1] == \"UNKNOWN\"]\n",
    "    return boulder"
   ]
  },
  {
   "cell_type": "code",
   "execution_count": 85,
   "metadata": {},
   "outputs": [],
   "source": [
    "colors = [\"Yellow\", \"Red\", \"Blue\"]\n",
    "\n",
    "boulders = [select_boulder(training_set[i], colors[i]) for i in range(len(colors))]\n",
    "\n",
    "boulders = [[y[i][1] for i in range(len(y))] for y in boulders] # Removing color notation\n",
    "\n",
    "with open(\"D:\\Betafinder\\Betafinder/betafinder_dataset/train\\input/train1.pkl\", \"wb\") as file:\n",
    "   pickle.dump(boulders, file)"
   ]
  },
  {
   "cell_type": "code",
   "execution_count": 71,
   "metadata": {},
   "outputs": [
    {
     "data": {
      "text/plain": [
       "[[((10, 'Yellow'), (2370, 2, 2782, 188)),\n",
       "  ((10, 'Yellow'), (1636, 2251, 2178, 2663)),\n",
       "  ((10, 'Yellow'), (651, 2363, 855, 2567)),\n",
       "  ((10, 'Yellow'), (1755, 788, 2087, 1092)),\n",
       "  ((10, 'Yellow'), (615, 2134, 949, 2324)),\n",
       "  ((10, 'Yellow'), (922, 3218, 1306, 3444)),\n",
       "  ((10, 'Yellow'), (1416, 1367, 1754, 1599)),\n",
       "  ((10, 'Yellow'), (1323, 1590, 1663, 1798)),\n",
       "  ((10, 'Yellow'), (1133, 2935, 1353, 3081)),\n",
       "  ((10, 'Yellow'), (1813, 566, 2041, 754)),\n",
       "  ((10, 'Yellow'), (82, 3382, 196, 3492)),\n",
       "  ((8, 'UNKNOWN'), (594, 3772, 910, 4018)),\n",
       "  ((10, 'Yellow'), (905, 3757, 1011, 3849)),\n",
       "  ((8, 'UNKNOWN'), (451, 596, 1243, 926)),\n",
       "  ((10, 'Yellow'), (1825, 2776, 2035, 2958)),\n",
       "  ((8, 'UNKNOWN'), (129, 2987, 405, 3237))],\n",
       " [((8, 'UNKNOWN'), (799, 1553, 1331, 1951)),\n",
       "  ((2, 'Gray'), (1314, 2463, 1776, 2897)),\n",
       "  ((8, 'UNKNOWN'), (615, 1983, 1067, 2215)),\n",
       "  ((8, 'UNKNOWN'), (458, 1046, 1286, 1500))],\n",
       " [((1, 'Blue'), (1142, 2875, 1536, 3433)),\n",
       "  ((1, 'Blue'), (1222, 3412, 1718, 3944)),\n",
       "  ((1, 'Blue'), (989, 1572, 1531, 2150)),\n",
       "  ((1, 'Blue'), (888, 342, 1534, 1024)),\n",
       "  ((1, 'Blue'), (985, 112, 1535, 642)),\n",
       "  ((2, 'Gray'), (1566, 2405, 2044, 2875)),\n",
       "  ((8, 'UNKNOWN'), (433, 3205, 823, 3577)),\n",
       "  ((8, 'UNKNOWN'), (237, 2294, 641, 2754)),\n",
       "  ((2, 'Gray'), (897, 2003, 1613, 2651))]]"
      ]
     },
     "execution_count": 71,
     "metadata": {},
     "output_type": "execute_result"
    }
   ],
   "source": [
    "boulders"
   ]
  }
 ],
 "metadata": {
  "kernelspec": {
   "display_name": "venv",
   "language": "python",
   "name": "python3"
  },
  "language_info": {
   "codemirror_mode": {
    "name": "ipython",
    "version": 3
   },
   "file_extension": ".py",
   "mimetype": "text/x-python",
   "name": "python",
   "nbconvert_exporter": "python",
   "pygments_lexer": "ipython3",
   "version": "3.9.1"
  }
 },
 "nbformat": 4,
 "nbformat_minor": 2
}
